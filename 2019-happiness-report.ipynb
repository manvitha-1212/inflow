{
 "cells": [
  {
   "cell_type": "code",
   "execution_count": 1,
   "id": "df2b092d",
   "metadata": {
    "_cell_guid": "b1076dfc-b9ad-4769-8c92-a6c4dae69d19",
    "_uuid": "8f2839f25d086af736a60e9eeb907d3b93b6e0e5",
    "execution": {
     "iopub.execute_input": "2022-05-24T07:22:06.331497Z",
     "iopub.status.busy": "2022-05-24T07:22:06.330696Z",
     "iopub.status.idle": "2022-05-24T07:22:06.344395Z",
     "shell.execute_reply": "2022-05-24T07:22:06.343538Z"
    },
    "papermill": {
     "duration": 0.060242,
     "end_time": "2022-05-24T07:22:06.347011",
     "exception": false,
     "start_time": "2022-05-24T07:22:06.286769",
     "status": "completed"
    },
    "tags": []
   },
   "outputs": [],
   "source": [
    "import numpy as np\n",
    "import pandas as pd"
   ]
  },
  {
   "cell_type": "code",
   "execution_count": 2,
   "id": "c9346ef9",
   "metadata": {
    "execution": {
     "iopub.execute_input": "2022-05-24T07:22:06.415953Z",
     "iopub.status.busy": "2022-05-24T07:22:06.415204Z",
     "iopub.status.idle": "2022-05-24T07:22:06.432574Z",
     "shell.execute_reply": "2022-05-24T07:22:06.431695Z"
    },
    "papermill": {
     "duration": 0.054607,
     "end_time": "2022-05-24T07:22:06.435366",
     "exception": false,
     "start_time": "2022-05-24T07:22:06.380759",
     "status": "completed"
    },
    "tags": []
   },
   "outputs": [],
   "source": [
    "data=pd.read_csv(\"../input/2019-happiness/2019.csv\")"
   ]
  },
  {
   "cell_type": "code",
   "execution_count": 3,
   "id": "f6c69dfb",
   "metadata": {
    "execution": {
     "iopub.execute_input": "2022-05-24T07:22:06.505485Z",
     "iopub.status.busy": "2022-05-24T07:22:06.504732Z",
     "iopub.status.idle": "2022-05-24T07:22:06.535273Z",
     "shell.execute_reply": "2022-05-24T07:22:06.534455Z"
    },
    "papermill": {
     "duration": 0.069723,
     "end_time": "2022-05-24T07:22:06.538158",
     "exception": false,
     "start_time": "2022-05-24T07:22:06.468435",
     "status": "completed"
    },
    "tags": []
   },
   "outputs": [
    {
     "data": {
      "text/html": [
       "<div>\n",
       "<style scoped>\n",
       "    .dataframe tbody tr th:only-of-type {\n",
       "        vertical-align: middle;\n",
       "    }\n",
       "\n",
       "    .dataframe tbody tr th {\n",
       "        vertical-align: top;\n",
       "    }\n",
       "\n",
       "    .dataframe thead th {\n",
       "        text-align: right;\n",
       "    }\n",
       "</style>\n",
       "<table border=\"1\" class=\"dataframe\">\n",
       "  <thead>\n",
       "    <tr style=\"text-align: right;\">\n",
       "      <th></th>\n",
       "      <th>Overall rank</th>\n",
       "      <th>Country or region</th>\n",
       "      <th>Score</th>\n",
       "      <th>GDP per capita</th>\n",
       "      <th>Social support</th>\n",
       "      <th>Healthy life expectancy</th>\n",
       "      <th>Freedom to make life choices</th>\n",
       "      <th>Generosity</th>\n",
       "      <th>Perceptions of corruption</th>\n",
       "    </tr>\n",
       "  </thead>\n",
       "  <tbody>\n",
       "    <tr>\n",
       "      <th>0</th>\n",
       "      <td>1</td>\n",
       "      <td>Finland</td>\n",
       "      <td>7.769</td>\n",
       "      <td>1.340</td>\n",
       "      <td>1.587</td>\n",
       "      <td>0.986</td>\n",
       "      <td>0.596</td>\n",
       "      <td>0.153</td>\n",
       "      <td>0.393</td>\n",
       "    </tr>\n",
       "    <tr>\n",
       "      <th>1</th>\n",
       "      <td>2</td>\n",
       "      <td>Denmark</td>\n",
       "      <td>7.600</td>\n",
       "      <td>1.383</td>\n",
       "      <td>1.573</td>\n",
       "      <td>0.996</td>\n",
       "      <td>0.592</td>\n",
       "      <td>0.252</td>\n",
       "      <td>0.410</td>\n",
       "    </tr>\n",
       "    <tr>\n",
       "      <th>2</th>\n",
       "      <td>3</td>\n",
       "      <td>Norway</td>\n",
       "      <td>7.554</td>\n",
       "      <td>1.488</td>\n",
       "      <td>1.582</td>\n",
       "      <td>1.028</td>\n",
       "      <td>0.603</td>\n",
       "      <td>0.271</td>\n",
       "      <td>0.341</td>\n",
       "    </tr>\n",
       "    <tr>\n",
       "      <th>3</th>\n",
       "      <td>4</td>\n",
       "      <td>Iceland</td>\n",
       "      <td>7.494</td>\n",
       "      <td>1.380</td>\n",
       "      <td>1.624</td>\n",
       "      <td>1.026</td>\n",
       "      <td>0.591</td>\n",
       "      <td>0.354</td>\n",
       "      <td>0.118</td>\n",
       "    </tr>\n",
       "    <tr>\n",
       "      <th>4</th>\n",
       "      <td>5</td>\n",
       "      <td>Netherlands</td>\n",
       "      <td>7.488</td>\n",
       "      <td>1.396</td>\n",
       "      <td>1.522</td>\n",
       "      <td>0.999</td>\n",
       "      <td>0.557</td>\n",
       "      <td>0.322</td>\n",
       "      <td>0.298</td>\n",
       "    </tr>\n",
       "  </tbody>\n",
       "</table>\n",
       "</div>"
      ],
      "text/plain": [
       "   Overall rank Country or region  Score  GDP per capita  Social support  \\\n",
       "0             1           Finland  7.769           1.340           1.587   \n",
       "1             2           Denmark  7.600           1.383           1.573   \n",
       "2             3            Norway  7.554           1.488           1.582   \n",
       "3             4           Iceland  7.494           1.380           1.624   \n",
       "4             5       Netherlands  7.488           1.396           1.522   \n",
       "\n",
       "   Healthy life expectancy  Freedom to make life choices  Generosity  \\\n",
       "0                    0.986                         0.596       0.153   \n",
       "1                    0.996                         0.592       0.252   \n",
       "2                    1.028                         0.603       0.271   \n",
       "3                    1.026                         0.591       0.354   \n",
       "4                    0.999                         0.557       0.322   \n",
       "\n",
       "   Perceptions of corruption  \n",
       "0                      0.393  \n",
       "1                      0.410  \n",
       "2                      0.341  \n",
       "3                      0.118  \n",
       "4                      0.298  "
      ]
     },
     "execution_count": 3,
     "metadata": {},
     "output_type": "execute_result"
    }
   ],
   "source": [
    "data.head()"
   ]
  },
  {
   "cell_type": "code",
   "execution_count": 4,
   "id": "73221a66",
   "metadata": {
    "execution": {
     "iopub.execute_input": "2022-05-24T07:22:06.614107Z",
     "iopub.status.busy": "2022-05-24T07:22:06.613531Z",
     "iopub.status.idle": "2022-05-24T07:22:06.619196Z",
     "shell.execute_reply": "2022-05-24T07:22:06.618587Z"
    },
    "papermill": {
     "duration": 0.044167,
     "end_time": "2022-05-24T07:22:06.621436",
     "exception": false,
     "start_time": "2022-05-24T07:22:06.577269",
     "status": "completed"
    },
    "tags": []
   },
   "outputs": [
    {
     "data": {
      "text/plain": [
       "Index(['Overall rank', 'Country or region', 'Score', 'GDP per capita',\n",
       "       'Social support', 'Healthy life expectancy',\n",
       "       'Freedom to make life choices', 'Generosity',\n",
       "       'Perceptions of corruption'],\n",
       "      dtype='object')"
      ]
     },
     "execution_count": 4,
     "metadata": {},
     "output_type": "execute_result"
    }
   ],
   "source": [
    "data.columns"
   ]
  },
  {
   "cell_type": "code",
   "execution_count": 5,
   "id": "e876188a",
   "metadata": {
    "execution": {
     "iopub.execute_input": "2022-05-24T07:22:06.692732Z",
     "iopub.status.busy": "2022-05-24T07:22:06.692260Z",
     "iopub.status.idle": "2022-05-24T07:22:06.706745Z",
     "shell.execute_reply": "2022-05-24T07:22:06.705773Z"
    },
    "papermill": {
     "duration": 0.053993,
     "end_time": "2022-05-24T07:22:06.709170",
     "exception": false,
     "start_time": "2022-05-24T07:22:06.655177",
     "status": "completed"
    },
    "tags": []
   },
   "outputs": [
    {
     "data": {
      "text/plain": [
       "<bound method NDFrame.describe of      Overall rank         Country or region  Score  GDP per capita  \\\n",
       "0               1                   Finland  7.769           1.340   \n",
       "1               2                   Denmark  7.600           1.383   \n",
       "2               3                    Norway  7.554           1.488   \n",
       "3               4                   Iceland  7.494           1.380   \n",
       "4               5               Netherlands  7.488           1.396   \n",
       "..            ...                       ...    ...             ...   \n",
       "151           152                    Rwanda  3.334           0.359   \n",
       "152           153                  Tanzania  3.231           0.476   \n",
       "153           154               Afghanistan  3.203           0.350   \n",
       "154           155  Central African Republic  3.083           0.026   \n",
       "155           156               South Sudan  2.853           0.306   \n",
       "\n",
       "     Social support  Healthy life expectancy  Freedom to make life choices  \\\n",
       "0             1.587                    0.986                         0.596   \n",
       "1             1.573                    0.996                         0.592   \n",
       "2             1.582                    1.028                         0.603   \n",
       "3             1.624                    1.026                         0.591   \n",
       "4             1.522                    0.999                         0.557   \n",
       "..              ...                      ...                           ...   \n",
       "151           0.711                    0.614                         0.555   \n",
       "152           0.885                    0.499                         0.417   \n",
       "153           0.517                    0.361                         0.000   \n",
       "154           0.000                    0.105                         0.225   \n",
       "155           0.575                    0.295                         0.010   \n",
       "\n",
       "     Generosity  Perceptions of corruption  \n",
       "0         0.153                      0.393  \n",
       "1         0.252                      0.410  \n",
       "2         0.271                      0.341  \n",
       "3         0.354                      0.118  \n",
       "4         0.322                      0.298  \n",
       "..          ...                        ...  \n",
       "151       0.217                      0.411  \n",
       "152       0.276                      0.147  \n",
       "153       0.158                      0.025  \n",
       "154       0.235                      0.035  \n",
       "155       0.202                      0.091  \n",
       "\n",
       "[156 rows x 9 columns]>"
      ]
     },
     "execution_count": 5,
     "metadata": {},
     "output_type": "execute_result"
    }
   ],
   "source": [
    "data.describe"
   ]
  },
  {
   "cell_type": "code",
   "execution_count": 6,
   "id": "97a803de",
   "metadata": {
    "execution": {
     "iopub.execute_input": "2022-05-24T07:22:06.782202Z",
     "iopub.status.busy": "2022-05-24T07:22:06.781530Z",
     "iopub.status.idle": "2022-05-24T07:22:06.808534Z",
     "shell.execute_reply": "2022-05-24T07:22:06.807584Z"
    },
    "papermill": {
     "duration": 0.066185,
     "end_time": "2022-05-24T07:22:06.811150",
     "exception": false,
     "start_time": "2022-05-24T07:22:06.744965",
     "status": "completed"
    },
    "tags": []
   },
   "outputs": [
    {
     "name": "stdout",
     "output_type": "stream",
     "text": [
      "<class 'pandas.core.frame.DataFrame'>\n",
      "RangeIndex: 156 entries, 0 to 155\n",
      "Data columns (total 9 columns):\n",
      " #   Column                        Non-Null Count  Dtype  \n",
      "---  ------                        --------------  -----  \n",
      " 0   Overall rank                  156 non-null    int64  \n",
      " 1   Country or region             156 non-null    object \n",
      " 2   Score                         156 non-null    float64\n",
      " 3   GDP per capita                156 non-null    float64\n",
      " 4   Social support                156 non-null    float64\n",
      " 5   Healthy life expectancy       156 non-null    float64\n",
      " 6   Freedom to make life choices  156 non-null    float64\n",
      " 7   Generosity                    156 non-null    float64\n",
      " 8   Perceptions of corruption     156 non-null    float64\n",
      "dtypes: float64(7), int64(1), object(1)\n",
      "memory usage: 11.1+ KB\n"
     ]
    }
   ],
   "source": [
    "data.info()"
   ]
  },
  {
   "cell_type": "code",
   "execution_count": 7,
   "id": "f7537044",
   "metadata": {
    "execution": {
     "iopub.execute_input": "2022-05-24T07:22:06.889066Z",
     "iopub.status.busy": "2022-05-24T07:22:06.888756Z",
     "iopub.status.idle": "2022-05-24T07:22:06.899600Z",
     "shell.execute_reply": "2022-05-24T07:22:06.898621Z"
    },
    "papermill": {
     "duration": 0.056136,
     "end_time": "2022-05-24T07:22:06.902336",
     "exception": false,
     "start_time": "2022-05-24T07:22:06.846200",
     "status": "completed"
    },
    "tags": []
   },
   "outputs": [
    {
     "data": {
      "text/plain": [
       "Overall rank                    0\n",
       "Country or region               0\n",
       "Score                           0\n",
       "GDP per capita                  0\n",
       "Social support                  0\n",
       "Healthy life expectancy         0\n",
       "Freedom to make life choices    0\n",
       "Generosity                      0\n",
       "Perceptions of corruption       0\n",
       "dtype: int64"
      ]
     },
     "execution_count": 7,
     "metadata": {},
     "output_type": "execute_result"
    }
   ],
   "source": [
    "data.isnull().sum()"
   ]
  },
  {
   "cell_type": "code",
   "execution_count": null,
   "id": "7a9c8995",
   "metadata": {
    "papermill": {
     "duration": 0.034253,
     "end_time": "2022-05-24T07:22:06.972047",
     "exception": false,
     "start_time": "2022-05-24T07:22:06.937794",
     "status": "completed"
    },
    "tags": []
   },
   "outputs": [],
   "source": []
  },
  {
   "cell_type": "code",
   "execution_count": null,
   "id": "d3dd4306",
   "metadata": {
    "papermill": {
     "duration": 0.034354,
     "end_time": "2022-05-24T07:22:07.042601",
     "exception": false,
     "start_time": "2022-05-24T07:22:07.008247",
     "status": "completed"
    },
    "tags": []
   },
   "outputs": [],
   "source": []
  },
  {
   "cell_type": "code",
   "execution_count": null,
   "id": "706e594d",
   "metadata": {
    "papermill": {
     "duration": 0.035091,
     "end_time": "2022-05-24T07:22:07.114309",
     "exception": false,
     "start_time": "2022-05-24T07:22:07.079218",
     "status": "completed"
    },
    "tags": []
   },
   "outputs": [],
   "source": []
  },
  {
   "cell_type": "code",
   "execution_count": 8,
   "id": "8df5fd92",
   "metadata": {
    "execution": {
     "iopub.execute_input": "2022-05-24T07:22:07.193318Z",
     "iopub.status.busy": "2022-05-24T07:22:07.193036Z",
     "iopub.status.idle": "2022-05-24T07:22:07.199834Z",
     "shell.execute_reply": "2022-05-24T07:22:07.199079Z"
    },
    "papermill": {
     "duration": 0.048374,
     "end_time": "2022-05-24T07:22:07.202202",
     "exception": false,
     "start_time": "2022-05-24T07:22:07.153828",
     "status": "completed"
    },
    "tags": []
   },
   "outputs": [],
   "source": [
    "data1=data.drop(['Overall rank'],axis=1)"
   ]
  },
  {
   "cell_type": "code",
   "execution_count": 9,
   "id": "c08f44e5",
   "metadata": {
    "execution": {
     "iopub.execute_input": "2022-05-24T07:22:07.279625Z",
     "iopub.status.busy": "2022-05-24T07:22:07.279021Z",
     "iopub.status.idle": "2022-05-24T07:22:07.284622Z",
     "shell.execute_reply": "2022-05-24T07:22:07.283943Z"
    },
    "papermill": {
     "duration": 0.045711,
     "end_time": "2022-05-24T07:22:07.286793",
     "exception": false,
     "start_time": "2022-05-24T07:22:07.241082",
     "status": "completed"
    },
    "tags": []
   },
   "outputs": [],
   "source": [
    "x=data1.drop([\"Score\",'Country or region'],axis=1)"
   ]
  },
  {
   "cell_type": "code",
   "execution_count": 10,
   "id": "bd4d3187",
   "metadata": {
    "execution": {
     "iopub.execute_input": "2022-05-24T07:22:07.363271Z",
     "iopub.status.busy": "2022-05-24T07:22:07.362673Z",
     "iopub.status.idle": "2022-05-24T07:22:07.380739Z",
     "shell.execute_reply": "2022-05-24T07:22:07.379827Z"
    },
    "papermill": {
     "duration": 0.059516,
     "end_time": "2022-05-24T07:22:07.383250",
     "exception": false,
     "start_time": "2022-05-24T07:22:07.323734",
     "status": "completed"
    },
    "tags": []
   },
   "outputs": [
    {
     "data": {
      "text/html": [
       "<div>\n",
       "<style scoped>\n",
       "    .dataframe tbody tr th:only-of-type {\n",
       "        vertical-align: middle;\n",
       "    }\n",
       "\n",
       "    .dataframe tbody tr th {\n",
       "        vertical-align: top;\n",
       "    }\n",
       "\n",
       "    .dataframe thead th {\n",
       "        text-align: right;\n",
       "    }\n",
       "</style>\n",
       "<table border=\"1\" class=\"dataframe\">\n",
       "  <thead>\n",
       "    <tr style=\"text-align: right;\">\n",
       "      <th></th>\n",
       "      <th>GDP per capita</th>\n",
       "      <th>Social support</th>\n",
       "      <th>Healthy life expectancy</th>\n",
       "      <th>Freedom to make life choices</th>\n",
       "      <th>Generosity</th>\n",
       "      <th>Perceptions of corruption</th>\n",
       "    </tr>\n",
       "  </thead>\n",
       "  <tbody>\n",
       "    <tr>\n",
       "      <th>0</th>\n",
       "      <td>1.340</td>\n",
       "      <td>1.587</td>\n",
       "      <td>0.986</td>\n",
       "      <td>0.596</td>\n",
       "      <td>0.153</td>\n",
       "      <td>0.393</td>\n",
       "    </tr>\n",
       "    <tr>\n",
       "      <th>1</th>\n",
       "      <td>1.383</td>\n",
       "      <td>1.573</td>\n",
       "      <td>0.996</td>\n",
       "      <td>0.592</td>\n",
       "      <td>0.252</td>\n",
       "      <td>0.410</td>\n",
       "    </tr>\n",
       "    <tr>\n",
       "      <th>2</th>\n",
       "      <td>1.488</td>\n",
       "      <td>1.582</td>\n",
       "      <td>1.028</td>\n",
       "      <td>0.603</td>\n",
       "      <td>0.271</td>\n",
       "      <td>0.341</td>\n",
       "    </tr>\n",
       "    <tr>\n",
       "      <th>3</th>\n",
       "      <td>1.380</td>\n",
       "      <td>1.624</td>\n",
       "      <td>1.026</td>\n",
       "      <td>0.591</td>\n",
       "      <td>0.354</td>\n",
       "      <td>0.118</td>\n",
       "    </tr>\n",
       "    <tr>\n",
       "      <th>4</th>\n",
       "      <td>1.396</td>\n",
       "      <td>1.522</td>\n",
       "      <td>0.999</td>\n",
       "      <td>0.557</td>\n",
       "      <td>0.322</td>\n",
       "      <td>0.298</td>\n",
       "    </tr>\n",
       "    <tr>\n",
       "      <th>...</th>\n",
       "      <td>...</td>\n",
       "      <td>...</td>\n",
       "      <td>...</td>\n",
       "      <td>...</td>\n",
       "      <td>...</td>\n",
       "      <td>...</td>\n",
       "    </tr>\n",
       "    <tr>\n",
       "      <th>151</th>\n",
       "      <td>0.359</td>\n",
       "      <td>0.711</td>\n",
       "      <td>0.614</td>\n",
       "      <td>0.555</td>\n",
       "      <td>0.217</td>\n",
       "      <td>0.411</td>\n",
       "    </tr>\n",
       "    <tr>\n",
       "      <th>152</th>\n",
       "      <td>0.476</td>\n",
       "      <td>0.885</td>\n",
       "      <td>0.499</td>\n",
       "      <td>0.417</td>\n",
       "      <td>0.276</td>\n",
       "      <td>0.147</td>\n",
       "    </tr>\n",
       "    <tr>\n",
       "      <th>153</th>\n",
       "      <td>0.350</td>\n",
       "      <td>0.517</td>\n",
       "      <td>0.361</td>\n",
       "      <td>0.000</td>\n",
       "      <td>0.158</td>\n",
       "      <td>0.025</td>\n",
       "    </tr>\n",
       "    <tr>\n",
       "      <th>154</th>\n",
       "      <td>0.026</td>\n",
       "      <td>0.000</td>\n",
       "      <td>0.105</td>\n",
       "      <td>0.225</td>\n",
       "      <td>0.235</td>\n",
       "      <td>0.035</td>\n",
       "    </tr>\n",
       "    <tr>\n",
       "      <th>155</th>\n",
       "      <td>0.306</td>\n",
       "      <td>0.575</td>\n",
       "      <td>0.295</td>\n",
       "      <td>0.010</td>\n",
       "      <td>0.202</td>\n",
       "      <td>0.091</td>\n",
       "    </tr>\n",
       "  </tbody>\n",
       "</table>\n",
       "<p>156 rows × 6 columns</p>\n",
       "</div>"
      ],
      "text/plain": [
       "     GDP per capita  Social support  Healthy life expectancy  \\\n",
       "0             1.340           1.587                    0.986   \n",
       "1             1.383           1.573                    0.996   \n",
       "2             1.488           1.582                    1.028   \n",
       "3             1.380           1.624                    1.026   \n",
       "4             1.396           1.522                    0.999   \n",
       "..              ...             ...                      ...   \n",
       "151           0.359           0.711                    0.614   \n",
       "152           0.476           0.885                    0.499   \n",
       "153           0.350           0.517                    0.361   \n",
       "154           0.026           0.000                    0.105   \n",
       "155           0.306           0.575                    0.295   \n",
       "\n",
       "     Freedom to make life choices  Generosity  Perceptions of corruption  \n",
       "0                           0.596       0.153                      0.393  \n",
       "1                           0.592       0.252                      0.410  \n",
       "2                           0.603       0.271                      0.341  \n",
       "3                           0.591       0.354                      0.118  \n",
       "4                           0.557       0.322                      0.298  \n",
       "..                            ...         ...                        ...  \n",
       "151                         0.555       0.217                      0.411  \n",
       "152                         0.417       0.276                      0.147  \n",
       "153                         0.000       0.158                      0.025  \n",
       "154                         0.225       0.235                      0.035  \n",
       "155                         0.010       0.202                      0.091  \n",
       "\n",
       "[156 rows x 6 columns]"
      ]
     },
     "execution_count": 10,
     "metadata": {},
     "output_type": "execute_result"
    }
   ],
   "source": [
    "x"
   ]
  },
  {
   "cell_type": "code",
   "execution_count": null,
   "id": "dd4925e1",
   "metadata": {
    "papermill": {
     "duration": 0.035542,
     "end_time": "2022-05-24T07:22:07.458624",
     "exception": false,
     "start_time": "2022-05-24T07:22:07.423082",
     "status": "completed"
    },
    "tags": []
   },
   "outputs": [],
   "source": []
  },
  {
   "cell_type": "code",
   "execution_count": 11,
   "id": "e82ae395",
   "metadata": {
    "execution": {
     "iopub.execute_input": "2022-05-24T07:22:07.532208Z",
     "iopub.status.busy": "2022-05-24T07:22:07.531908Z",
     "iopub.status.idle": "2022-05-24T07:22:07.537571Z",
     "shell.execute_reply": "2022-05-24T07:22:07.536607Z"
    },
    "papermill": {
     "duration": 0.04521,
     "end_time": "2022-05-24T07:22:07.539985",
     "exception": false,
     "start_time": "2022-05-24T07:22:07.494775",
     "status": "completed"
    },
    "tags": []
   },
   "outputs": [],
   "source": [
    "y=data1.drop(['GDP per capita','Country or region',\n",
    "       'Social support', 'Healthy life expectancy',\n",
    "       'Freedom to make life choices', 'Generosity',\n",
    "       'Perceptions of corruption'],axis=1)"
   ]
  },
  {
   "cell_type": "code",
   "execution_count": 12,
   "id": "16046388",
   "metadata": {
    "execution": {
     "iopub.execute_input": "2022-05-24T07:22:07.613251Z",
     "iopub.status.busy": "2022-05-24T07:22:07.612951Z",
     "iopub.status.idle": "2022-05-24T07:22:07.625351Z",
     "shell.execute_reply": "2022-05-24T07:22:07.624295Z"
    },
    "papermill": {
     "duration": 0.051556,
     "end_time": "2022-05-24T07:22:07.627631",
     "exception": false,
     "start_time": "2022-05-24T07:22:07.576075",
     "status": "completed"
    },
    "tags": []
   },
   "outputs": [
    {
     "data": {
      "text/html": [
       "<div>\n",
       "<style scoped>\n",
       "    .dataframe tbody tr th:only-of-type {\n",
       "        vertical-align: middle;\n",
       "    }\n",
       "\n",
       "    .dataframe tbody tr th {\n",
       "        vertical-align: top;\n",
       "    }\n",
       "\n",
       "    .dataframe thead th {\n",
       "        text-align: right;\n",
       "    }\n",
       "</style>\n",
       "<table border=\"1\" class=\"dataframe\">\n",
       "  <thead>\n",
       "    <tr style=\"text-align: right;\">\n",
       "      <th></th>\n",
       "      <th>Score</th>\n",
       "    </tr>\n",
       "  </thead>\n",
       "  <tbody>\n",
       "    <tr>\n",
       "      <th>0</th>\n",
       "      <td>7.769</td>\n",
       "    </tr>\n",
       "    <tr>\n",
       "      <th>1</th>\n",
       "      <td>7.600</td>\n",
       "    </tr>\n",
       "    <tr>\n",
       "      <th>2</th>\n",
       "      <td>7.554</td>\n",
       "    </tr>\n",
       "    <tr>\n",
       "      <th>3</th>\n",
       "      <td>7.494</td>\n",
       "    </tr>\n",
       "    <tr>\n",
       "      <th>4</th>\n",
       "      <td>7.488</td>\n",
       "    </tr>\n",
       "    <tr>\n",
       "      <th>...</th>\n",
       "      <td>...</td>\n",
       "    </tr>\n",
       "    <tr>\n",
       "      <th>151</th>\n",
       "      <td>3.334</td>\n",
       "    </tr>\n",
       "    <tr>\n",
       "      <th>152</th>\n",
       "      <td>3.231</td>\n",
       "    </tr>\n",
       "    <tr>\n",
       "      <th>153</th>\n",
       "      <td>3.203</td>\n",
       "    </tr>\n",
       "    <tr>\n",
       "      <th>154</th>\n",
       "      <td>3.083</td>\n",
       "    </tr>\n",
       "    <tr>\n",
       "      <th>155</th>\n",
       "      <td>2.853</td>\n",
       "    </tr>\n",
       "  </tbody>\n",
       "</table>\n",
       "<p>156 rows × 1 columns</p>\n",
       "</div>"
      ],
      "text/plain": [
       "     Score\n",
       "0    7.769\n",
       "1    7.600\n",
       "2    7.554\n",
       "3    7.494\n",
       "4    7.488\n",
       "..     ...\n",
       "151  3.334\n",
       "152  3.231\n",
       "153  3.203\n",
       "154  3.083\n",
       "155  2.853\n",
       "\n",
       "[156 rows x 1 columns]"
      ]
     },
     "execution_count": 12,
     "metadata": {},
     "output_type": "execute_result"
    }
   ],
   "source": [
    "y"
   ]
  },
  {
   "cell_type": "code",
   "execution_count": 13,
   "id": "317c4be0",
   "metadata": {
    "execution": {
     "iopub.execute_input": "2022-05-24T07:22:07.701945Z",
     "iopub.status.busy": "2022-05-24T07:22:07.701387Z",
     "iopub.status.idle": "2022-05-24T07:22:08.964123Z",
     "shell.execute_reply": "2022-05-24T07:22:08.963158Z"
    },
    "papermill": {
     "duration": 1.302119,
     "end_time": "2022-05-24T07:22:08.966441",
     "exception": false,
     "start_time": "2022-05-24T07:22:07.664322",
     "status": "completed"
    },
    "tags": []
   },
   "outputs": [
    {
     "data": {
      "text/plain": [
       "LinearRegression()"
      ]
     },
     "execution_count": 13,
     "metadata": {},
     "output_type": "execute_result"
    }
   ],
   "source": [
    "from sklearn.linear_model import LinearRegression\n",
    "lr=LinearRegression()\n",
    "lr.fit(x,y)"
   ]
  },
  {
   "cell_type": "code",
   "execution_count": 14,
   "id": "52502a5f",
   "metadata": {
    "execution": {
     "iopub.execute_input": "2022-05-24T07:22:09.041114Z",
     "iopub.status.busy": "2022-05-24T07:22:09.040811Z",
     "iopub.status.idle": "2022-05-24T07:22:09.048185Z",
     "shell.execute_reply": "2022-05-24T07:22:09.047264Z"
    },
    "papermill": {
     "duration": 0.047371,
     "end_time": "2022-05-24T07:22:09.050382",
     "exception": false,
     "start_time": "2022-05-24T07:22:09.003011",
     "status": "completed"
    },
    "tags": []
   },
   "outputs": [],
   "source": [
    "y_pred=lr.predict(x)"
   ]
  },
  {
   "cell_type": "code",
   "execution_count": 15,
   "id": "e185a804",
   "metadata": {
    "execution": {
     "iopub.execute_input": "2022-05-24T07:22:09.124634Z",
     "iopub.status.busy": "2022-05-24T07:22:09.124109Z",
     "iopub.status.idle": "2022-05-24T07:22:09.132545Z",
     "shell.execute_reply": "2022-05-24T07:22:09.131870Z"
    },
    "papermill": {
     "duration": 0.047743,
     "end_time": "2022-05-24T07:22:09.134453",
     "exception": false,
     "start_time": "2022-05-24T07:22:09.086710",
     "status": "completed"
    },
    "tags": []
   },
   "outputs": [
    {
     "data": {
      "text/plain": [
       "array([[7.00548205],\n",
       "       [7.09306376],\n",
       "       [7.17731778],\n",
       "       [6.94501295],\n",
       "       [6.92351457],\n",
       "       [7.06525159],\n",
       "       [6.95868603],\n",
       "       [7.04424212],\n",
       "       [6.95437379],\n",
       "       [6.72892047],\n",
       "       [6.9711455 ],\n",
       "       [6.22791333],\n",
       "       [6.27700529],\n",
       "       [6.96405331],\n",
       "       [6.72704049],\n",
       "       [6.97849222],\n",
       "       [6.66413664],\n",
       "       [6.57113692],\n",
       "       [6.40865675],\n",
       "       [6.16512153],\n",
       "       [6.4980305 ],\n",
       "       [6.74004766],\n",
       "       [5.77761706],\n",
       "       [6.46988157],\n",
       "       [6.17242995],\n",
       "       [5.89019787],\n",
       "       [5.58629639],\n",
       "       [6.07191313],\n",
       "       [6.59362701],\n",
       "       [6.28403234],\n",
       "       [6.14489939],\n",
       "       [5.75556477],\n",
       "       [6.24322562],\n",
       "       [7.27101859],\n",
       "       [5.40084237],\n",
       "       [6.03415894],\n",
       "       [6.33986851],\n",
       "       [5.96075088],\n",
       "       [5.99642887],\n",
       "       [6.10858678],\n",
       "       [6.21589364],\n",
       "       [5.82545397],\n",
       "       [5.81610674],\n",
       "       [6.45672577],\n",
       "       [5.5774195 ],\n",
       "       [5.52690417],\n",
       "       [5.96777789],\n",
       "       [5.68831981],\n",
       "       [5.99640989],\n",
       "       [5.783934  ],\n",
       "       [6.19331847],\n",
       "       [6.09944625],\n",
       "       [5.72101434],\n",
       "       [5.66280225],\n",
       "       [6.34154324],\n",
       "       [5.78954434],\n",
       "       [5.9882577 ],\n",
       "       [6.40970021],\n",
       "       [5.50913636],\n",
       "       [5.94730664],\n",
       "       [5.38997059],\n",
       "       [5.55288356],\n",
       "       [5.86974885],\n",
       "       [6.16315029],\n",
       "       [5.62138327],\n",
       "       [6.21411339],\n",
       "       [4.55138525],\n",
       "       [5.68375959],\n",
       "       [5.55599972],\n",
       "       [5.56446617],\n",
       "       [5.06110841],\n",
       "       [5.61325794],\n",
       "       [5.5131565 ],\n",
       "       [5.00453559],\n",
       "       [5.60972822],\n",
       "       [6.60100819],\n",
       "       [5.87368553],\n",
       "       [5.24456839],\n",
       "       [5.53993077],\n",
       "       [5.84081275],\n",
       "       [5.64612607],\n",
       "       [5.21809547],\n",
       "       [5.58375864],\n",
       "       [5.54118267],\n",
       "       [4.61292619],\n",
       "       [5.52688698],\n",
       "       [5.76819254],\n",
       "       [4.99425659],\n",
       "       [4.83816376],\n",
       "       [5.42721592],\n",
       "       [5.23700824],\n",
       "       [5.56652654],\n",
       "       [5.70417774],\n",
       "       [5.73338052],\n",
       "       [5.57030168],\n",
       "       [4.28263382],\n",
       "       [5.71752867],\n",
       "       [4.48192722],\n",
       "       [4.06991544],\n",
       "       [5.11399009],\n",
       "       [5.43750069],\n",
       "       [3.69241123],\n",
       "       [4.44601787],\n",
       "       [5.06403782],\n",
       "       [5.22510776],\n",
       "       [5.2470858 ],\n",
       "       [5.09574217],\n",
       "       [5.31279076],\n",
       "       [5.24830744],\n",
       "       [4.87297367],\n",
       "       [4.60434229],\n",
       "       [4.06363251],\n",
       "       [5.13922982],\n",
       "       [3.82083458],\n",
       "       [4.21625036],\n",
       "       [5.03946747],\n",
       "       [5.13854078],\n",
       "       [4.09412539],\n",
       "       [4.72556106],\n",
       "       [4.40096416],\n",
       "       [4.78445476],\n",
       "       [4.30982206],\n",
       "       [4.43167379],\n",
       "       [4.83754504],\n",
       "       [5.04076283],\n",
       "       [4.83412999],\n",
       "       [4.06443247],\n",
       "       [4.26926357],\n",
       "       [3.8260967 ],\n",
       "       [5.69806238],\n",
       "       [5.48001013],\n",
       "       [3.56069025],\n",
       "       [5.15067119],\n",
       "       [4.49066201],\n",
       "       [4.33860707],\n",
       "       [4.43170418],\n",
       "       [4.81847441],\n",
       "       [4.72466614],\n",
       "       [3.68912489],\n",
       "       [4.7796873 ],\n",
       "       [4.05043697],\n",
       "       [3.82026164],\n",
       "       [3.97375283],\n",
       "       [4.33479859],\n",
       "       [3.32437063],\n",
       "       [4.48387618],\n",
       "       [3.65319085],\n",
       "       [5.24104358],\n",
       "       [3.49262511],\n",
       "       [3.9443406 ],\n",
       "       [4.16016999],\n",
       "       [4.84818062],\n",
       "       [4.58197039],\n",
       "       [3.13870965],\n",
       "       [2.40505106],\n",
       "       [3.19890827]])"
      ]
     },
     "execution_count": 15,
     "metadata": {},
     "output_type": "execute_result"
    }
   ],
   "source": [
    "y_pred"
   ]
  },
  {
   "cell_type": "code",
   "execution_count": 16,
   "id": "401a0d7f",
   "metadata": {
    "execution": {
     "iopub.execute_input": "2022-05-24T07:22:09.217848Z",
     "iopub.status.busy": "2022-05-24T07:22:09.217161Z",
     "iopub.status.idle": "2022-05-24T07:22:09.222083Z",
     "shell.execute_reply": "2022-05-24T07:22:09.221079Z"
    },
    "papermill": {
     "duration": 0.044905,
     "end_time": "2022-05-24T07:22:09.224159",
     "exception": false,
     "start_time": "2022-05-24T07:22:09.179254",
     "status": "completed"
    },
    "tags": []
   },
   "outputs": [],
   "source": [
    "from sklearn.metrics import r2_score,mean_squared_error"
   ]
  },
  {
   "cell_type": "code",
   "execution_count": 17,
   "id": "051d2fb5",
   "metadata": {
    "execution": {
     "iopub.execute_input": "2022-05-24T07:22:09.299929Z",
     "iopub.status.busy": "2022-05-24T07:22:09.299383Z",
     "iopub.status.idle": "2022-05-24T07:22:09.303491Z",
     "shell.execute_reply": "2022-05-24T07:22:09.302886Z"
    },
    "papermill": {
     "duration": 0.043746,
     "end_time": "2022-05-24T07:22:09.305347",
     "exception": false,
     "start_time": "2022-05-24T07:22:09.261601",
     "status": "completed"
    },
    "tags": []
   },
   "outputs": [],
   "source": [
    "data1['predicted_happiness_score']=y_pred"
   ]
  },
  {
   "cell_type": "code",
   "execution_count": 18,
   "id": "11c54210",
   "metadata": {
    "execution": {
     "iopub.execute_input": "2022-05-24T07:22:09.380409Z",
     "iopub.status.busy": "2022-05-24T07:22:09.379856Z",
     "iopub.status.idle": "2022-05-24T07:22:09.386915Z",
     "shell.execute_reply": "2022-05-24T07:22:09.386002Z"
    },
    "papermill": {
     "duration": 0.047092,
     "end_time": "2022-05-24T07:22:09.388847",
     "exception": false,
     "start_time": "2022-05-24T07:22:09.341755",
     "status": "completed"
    },
    "tags": []
   },
   "outputs": [
    {
     "data": {
      "text/plain": [
       "0.7791638079594221"
      ]
     },
     "execution_count": 18,
     "metadata": {},
     "output_type": "execute_result"
    }
   ],
   "source": [
    "r2_score(y,y_pred)"
   ]
  },
  {
   "cell_type": "code",
   "execution_count": 19,
   "id": "b26ec32c",
   "metadata": {
    "execution": {
     "iopub.execute_input": "2022-05-24T07:22:09.464315Z",
     "iopub.status.busy": "2022-05-24T07:22:09.463779Z",
     "iopub.status.idle": "2022-05-24T07:22:09.468249Z",
     "shell.execute_reply": "2022-05-24T07:22:09.467425Z"
    },
    "papermill": {
     "duration": 0.044584,
     "end_time": "2022-05-24T07:22:09.470319",
     "exception": false,
     "start_time": "2022-05-24T07:22:09.425735",
     "status": "completed"
    },
    "tags": []
   },
   "outputs": [],
   "source": [
    "import pickle\n",
    "\n",
    "pickle.dump(lr,open('model.pkl','wb'))"
   ]
  },
  {
   "cell_type": "code",
   "execution_count": 20,
   "id": "3d8bb4d6",
   "metadata": {
    "execution": {
     "iopub.execute_input": "2022-05-24T07:22:09.545791Z",
     "iopub.status.busy": "2022-05-24T07:22:09.545469Z",
     "iopub.status.idle": "2022-05-24T07:22:09.549586Z",
     "shell.execute_reply": "2022-05-24T07:22:09.548955Z"
    },
    "papermill": {
     "duration": 0.044311,
     "end_time": "2022-05-24T07:22:09.551424",
     "exception": false,
     "start_time": "2022-05-24T07:22:09.507113",
     "status": "completed"
    },
    "tags": []
   },
   "outputs": [],
   "source": [
    "model2 = pickle.load(open(\"model.pkl\",\"rb\"))"
   ]
  },
  {
   "cell_type": "code",
   "execution_count": 21,
   "id": "4e3c843b",
   "metadata": {
    "execution": {
     "iopub.execute_input": "2022-05-24T07:22:09.627180Z",
     "iopub.status.busy": "2022-05-24T07:22:09.626754Z",
     "iopub.status.idle": "2022-05-24T07:22:09.632445Z",
     "shell.execute_reply": "2022-05-24T07:22:09.631867Z"
    },
    "papermill": {
     "duration": 0.045367,
     "end_time": "2022-05-24T07:22:09.634267",
     "exception": false,
     "start_time": "2022-05-24T07:22:09.588900",
     "status": "completed"
    },
    "tags": []
   },
   "outputs": [
    {
     "data": {
      "text/plain": [
       "(1.34, 1.587, 0.986, 0.596, 0.153, 0.393)"
      ]
     },
     "execution_count": 21,
     "metadata": {},
     "output_type": "execute_result"
    }
   ],
   "source": [
    "1.340,1.587,0.986,0.596,0.153,0.393"
   ]
  },
  {
   "cell_type": "code",
   "execution_count": 22,
   "id": "66f3a733",
   "metadata": {
    "execution": {
     "iopub.execute_input": "2022-05-24T07:22:09.711097Z",
     "iopub.status.busy": "2022-05-24T07:22:09.710653Z",
     "iopub.status.idle": "2022-05-24T07:22:09.720690Z",
     "shell.execute_reply": "2022-05-24T07:22:09.720025Z"
    },
    "papermill": {
     "duration": 0.051656,
     "end_time": "2022-05-24T07:22:09.723563",
     "exception": false,
     "start_time": "2022-05-24T07:22:09.671907",
     "status": "completed"
    },
    "tags": []
   },
   "outputs": [
    {
     "name": "stderr",
     "output_type": "stream",
     "text": [
      "/opt/conda/lib/python3.7/site-packages/sklearn/base.py:451: UserWarning: X does not have valid feature names, but LinearRegression was fitted with feature names\n",
      "  \"X does not have valid feature names, but\"\n"
     ]
    },
    {
     "data": {
      "text/plain": [
       "array([[7.00548205]])"
      ]
     },
     "execution_count": 22,
     "metadata": {},
     "output_type": "execute_result"
    }
   ],
   "source": [
    "model2.predict([[1.340,1.587,0.986,0.596,0.153,0.393]])"
   ]
  },
  {
   "cell_type": "code",
   "execution_count": null,
   "id": "597f7b25",
   "metadata": {
    "papermill": {
     "duration": 0.037635,
     "end_time": "2022-05-24T07:22:09.799122",
     "exception": false,
     "start_time": "2022-05-24T07:22:09.761487",
     "status": "completed"
    },
    "tags": []
   },
   "outputs": [],
   "source": []
  },
  {
   "cell_type": "code",
   "execution_count": null,
   "id": "8165c40b",
   "metadata": {
    "papermill": {
     "duration": 0.037731,
     "end_time": "2022-05-24T07:22:09.874996",
     "exception": false,
     "start_time": "2022-05-24T07:22:09.837265",
     "status": "completed"
    },
    "tags": []
   },
   "outputs": [],
   "source": []
  },
  {
   "cell_type": "code",
   "execution_count": null,
   "id": "00bd4526",
   "metadata": {
    "papermill": {
     "duration": 0.038548,
     "end_time": "2022-05-24T07:22:09.951712",
     "exception": false,
     "start_time": "2022-05-24T07:22:09.913164",
     "status": "completed"
    },
    "tags": []
   },
   "outputs": [],
   "source": []
  },
  {
   "cell_type": "code",
   "execution_count": null,
   "id": "5948d991",
   "metadata": {
    "papermill": {
     "duration": 0.038724,
     "end_time": "2022-05-24T07:22:10.028581",
     "exception": false,
     "start_time": "2022-05-24T07:22:09.989857",
     "status": "completed"
    },
    "tags": []
   },
   "outputs": [],
   "source": []
  },
  {
   "cell_type": "code",
   "execution_count": null,
   "id": "85c6ed9c",
   "metadata": {
    "papermill": {
     "duration": 0.038135,
     "end_time": "2022-05-24T07:22:10.105143",
     "exception": false,
     "start_time": "2022-05-24T07:22:10.067008",
     "status": "completed"
    },
    "tags": []
   },
   "outputs": [],
   "source": []
  },
  {
   "cell_type": "code",
   "execution_count": null,
   "id": "e58a1390",
   "metadata": {
    "papermill": {
     "duration": 0.037752,
     "end_time": "2022-05-24T07:22:10.180781",
     "exception": false,
     "start_time": "2022-05-24T07:22:10.143029",
     "status": "completed"
    },
    "tags": []
   },
   "outputs": [],
   "source": []
  },
  {
   "cell_type": "code",
   "execution_count": null,
   "id": "04d85464",
   "metadata": {
    "papermill": {
     "duration": 0.038014,
     "end_time": "2022-05-24T07:22:10.256798",
     "exception": false,
     "start_time": "2022-05-24T07:22:10.218784",
     "status": "completed"
    },
    "tags": []
   },
   "outputs": [],
   "source": []
  },
  {
   "cell_type": "code",
   "execution_count": 23,
   "id": "480f153a",
   "metadata": {
    "execution": {
     "iopub.execute_input": "2022-05-24T07:22:10.337951Z",
     "iopub.status.busy": "2022-05-24T07:22:10.337384Z",
     "iopub.status.idle": "2022-05-24T07:22:10.340795Z",
     "shell.execute_reply": "2022-05-24T07:22:10.339983Z"
    },
    "papermill": {
     "duration": 0.045808,
     "end_time": "2022-05-24T07:22:10.342852",
     "exception": false,
     "start_time": "2022-05-24T07:22:10.297044",
     "status": "completed"
    },
    "tags": []
   },
   "outputs": [],
   "source": [
    "#Predicted Happiness = 2.087+ 0.075[GDP0.076 SS0.801 HLE0.810 FREE0.296 GEN0.011 PER 0.02]"
   ]
  },
  {
   "cell_type": "code",
   "execution_count": null,
   "id": "a9ba2259",
   "metadata": {
    "papermill": {
     "duration": 0.038139,
     "end_time": "2022-05-24T07:22:10.419961",
     "exception": false,
     "start_time": "2022-05-24T07:22:10.381822",
     "status": "completed"
    },
    "tags": []
   },
   "outputs": [],
   "source": []
  }
 ],
 "metadata": {
  "kernelspec": {
   "display_name": "Python 3",
   "language": "python",
   "name": "python3"
  },
  "language_info": {
   "codemirror_mode": {
    "name": "ipython",
    "version": 3
   },
   "file_extension": ".py",
   "mimetype": "text/x-python",
   "name": "python",
   "nbconvert_exporter": "python",
   "pygments_lexer": "ipython3",
   "version": "3.7.12"
  },
  "papermill": {
   "default_parameters": {},
   "duration": 15.641518,
   "end_time": "2022-05-24T07:22:11.179294",
   "environment_variables": {},
   "exception": null,
   "input_path": "__notebook__.ipynb",
   "output_path": "__notebook__.ipynb",
   "parameters": {},
   "start_time": "2022-05-24T07:21:55.537776",
   "version": "2.3.4"
  }
 },
 "nbformat": 4,
 "nbformat_minor": 5
}
